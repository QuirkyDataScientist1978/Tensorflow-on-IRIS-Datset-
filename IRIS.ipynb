{
 "cells": [
  {
   "cell_type": "code",
   "execution_count": 1,
   "metadata": {},
   "outputs": [
    {
     "name": "stdout",
     "output_type": "stream",
     "text": [
      "Library Loaded .........\n"
     ]
    }
   ],
   "source": [
    "try:\n",
    "    import tensorflow as tf\n",
    "\n",
    "    # For Data Processing\n",
    "    import numpy as np\n",
    "    import pandas as pd\n",
    "\n",
    "    # For Plotting\n",
    "    import matplotlib.pyplot as plt\n",
    "\n",
    "    # For Data Processing\n",
    "    from sklearn.model_selection import train_test_split\n",
    "    from sklearn.metrics import confusion_matrix,classification_report\n",
    "\n",
    "    print('Library Loaded .........')\n",
    "except:\n",
    "    print('One or More Library was not Found ! ')"
   ]
  },
  {
   "cell_type": "code",
   "execution_count": 34,
   "metadata": {},
   "outputs": [],
   "source": [
    "    def readTrainTestData():\n",
    "\n",
    "        names = ['Id', 'SepalLengthCm', 'SepalWidthCm', 'PetalLengthCm', 'PetalWidthCm',\n",
    "                 'Species']\n",
    "\n",
    "        path = \"/Users/soumilshah/IdeaProjects/mytensorflow/Dataset/Iris.csv\"\n",
    "        df = pd.read_csv(path,names=names,header=0)\n",
    "        \n",
    "        columns_norm = ['SepalLengthCm', 'SepalWidthCm', 'PetalLengthCm', 'PetalWidthCm']\n",
    "\n",
    "        X_Data = df[columns_norm]\n",
    "        X_Data = X_Data.apply(lambda x:( (x - x.min()) / (x.max()-x.min())))\n",
    "\n",
    "        Y_Data = df[\"Species\"]\n",
    "        Y_Data = df[\"Species\"].map({\n",
    "            \"Iris-setosa\":0,\n",
    "            \"Iris-virginica\":1,\n",
    "            \"Iris-versicolor\":2})\n",
    "        \n",
    "        X_Train, X_Test, Y_Train,Y_Test = train_test_split(X_Data,\n",
    "                                                           Y_Data,\n",
    "                                                           test_size=0.3,\n",
    "                                                           random_state=101)\n",
    "\n",
    "        return X_Train, X_Test , Y_Train, Y_Test"
   ]
  },
  {
   "cell_type": "code",
   "execution_count": 35,
   "metadata": {},
   "outputs": [],
   "source": [
    "def create_feature_column():\n",
    "    \n",
    "    feat_SepalLengthCm = tf.feature_column.numeric_column('SepalLengthCm')\n",
    "    feat_SepalWidthCm = tf.feature_column.numeric_column('SepalWidthCm')\n",
    "    feat_PetalLengthCm = tf.feature_column.numeric_column('PetalLengthCm')\n",
    "    feat_PetalWidthCm = tf.feature_column.numeric_column('PetalWidthCm')\n",
    "\n",
    "    feature_column = [feat_SepalLengthCm,feat_SepalWidthCm,feat_PetalLengthCm,feat_PetalWidthCm] \n",
    "\n",
    "    return feature_column"
   ]
  },
  {
   "cell_type": "code",
   "execution_count": 36,
   "metadata": {},
   "outputs": [],
   "source": [
    "X_Train, X_Test , Y_Train, Y_Test = readTrainTestData()\n",
    "feature_column = create_feature_column()\n",
    "\n",
    "input_func = tf.estimator.inputs.pandas_input_fn(x=X_Train, y=Y_Train,\n",
    "                                                 batch_size=40,num_epochs =1000, \n",
    "                                                 shuffle=True)\n",
    "\n",
    "eval_input_func = tf.estimator.inputs.pandas_input_fn(x=X_Test,\n",
    "                                                      y=Y_Test,\n",
    "                                                      batch_size=40,\n",
    "                                                      num_epochs=1,\n",
    "                                                      shuffle=False)\n",
    "\n",
    "predict_input_fn = tf.estimator.inputs.pandas_input_fn(\n",
    "      x=X_Test,\n",
    "      num_epochs=1,\n",
    "      shuffle=False)"
   ]
  },
  {
   "cell_type": "code",
   "execution_count": 37,
   "metadata": {
    "scrolled": true
   },
   "outputs": [
    {
     "name": "stdout",
     "output_type": "stream",
     "text": [
      "INFO:tensorflow:Using default config.\n",
      "WARNING:tensorflow:Using temporary folder as model directory: /var/folders/yh/7gktt0ls0fj77fnrs694ht6m0000gn/T/tmp6s3putae\n",
      "INFO:tensorflow:Using config: {'_model_dir': '/var/folders/yh/7gktt0ls0fj77fnrs694ht6m0000gn/T/tmp6s3putae', '_tf_random_seed': None, '_save_summary_steps': 100, '_save_checkpoints_steps': None, '_save_checkpoints_secs': 600, '_session_config': allow_soft_placement: true\n",
      "graph_options {\n",
      "  rewrite_options {\n",
      "    meta_optimizer_iterations: ONE\n",
      "  }\n",
      "}\n",
      ", '_keep_checkpoint_max': 5, '_keep_checkpoint_every_n_hours': 10000, '_log_step_count_steps': 100, '_train_distribute': None, '_device_fn': None, '_protocol': None, '_eval_distribute': None, '_experimental_distribute': None, '_service': None, '_cluster_spec': <tensorflow.python.training.server_lib.ClusterSpec object at 0x1a2fd4e630>, '_task_type': 'worker', '_task_id': 0, '_global_id_in_cluster': 0, '_master': '', '_evaluation_master': '', '_is_chief': True, '_num_ps_replicas': 0, '_num_worker_replicas': 1}\n"
     ]
    }
   ],
   "source": [
    "model = tf.estimator.LinearClassifier(feature_columns=feature_column, \n",
    "                                      n_classes=3)"
   ]
  },
  {
   "cell_type": "code",
   "execution_count": 38,
   "metadata": {},
   "outputs": [
    {
     "name": "stdout",
     "output_type": "stream",
     "text": [
      "INFO:tensorflow:Calling model_fn.\n",
      "INFO:tensorflow:Done calling model_fn.\n",
      "INFO:tensorflow:Create CheckpointSaverHook.\n",
      "INFO:tensorflow:Graph was finalized.\n",
      "INFO:tensorflow:Running local_init_op.\n",
      "INFO:tensorflow:Done running local_init_op.\n",
      "WARNING:tensorflow:From /anaconda3/lib/python3.7/site-packages/tensorflow/python/training/monitored_session.py:809: start_queue_runners (from tensorflow.python.training.queue_runner_impl) is deprecated and will be removed in a future version.\n",
      "Instructions for updating:\n",
      "To construct input pipelines, use the `tf.data` module.\n",
      "INFO:tensorflow:Saving checkpoints for 0 into /var/folders/yh/7gktt0ls0fj77fnrs694ht6m0000gn/T/tmp6s3putae/model.ckpt.\n",
      "INFO:tensorflow:loss = 43.944492, step = 1\n",
      "INFO:tensorflow:global_step/sec: 464.572\n",
      "INFO:tensorflow:loss = 19.601017, step = 101 (0.215 sec)\n",
      "INFO:tensorflow:global_step/sec: 654.39\n",
      "INFO:tensorflow:loss = 15.505865, step = 201 (0.154 sec)\n",
      "INFO:tensorflow:global_step/sec: 660.546\n",
      "INFO:tensorflow:loss = 13.558726, step = 301 (0.152 sec)\n",
      "INFO:tensorflow:global_step/sec: 586.073\n",
      "INFO:tensorflow:loss = 11.6261635, step = 401 (0.170 sec)\n",
      "INFO:tensorflow:global_step/sec: 643.679\n",
      "INFO:tensorflow:loss = 8.653613, step = 501 (0.156 sec)\n",
      "INFO:tensorflow:global_step/sec: 656.039\n",
      "INFO:tensorflow:loss = 9.754889, step = 601 (0.151 sec)\n",
      "INFO:tensorflow:global_step/sec: 673.791\n",
      "INFO:tensorflow:loss = 10.917167, step = 701 (0.148 sec)\n",
      "INFO:tensorflow:global_step/sec: 656.602\n",
      "INFO:tensorflow:loss = 10.744137, step = 801 (0.156 sec)\n",
      "INFO:tensorflow:global_step/sec: 677.043\n",
      "INFO:tensorflow:loss = 9.174931, step = 901 (0.148 sec)\n",
      "INFO:tensorflow:Saving checkpoints for 1000 into /var/folders/yh/7gktt0ls0fj77fnrs694ht6m0000gn/T/tmp6s3putae/model.ckpt.\n",
      "INFO:tensorflow:Loss for final step: 7.00443.\n"
     ]
    }
   ],
   "source": [
    "history = model.train(input_fn=input_func, steps = 1000)"
   ]
  },
  {
   "cell_type": "code",
   "execution_count": 39,
   "metadata": {},
   "outputs": [
    {
     "name": "stdout",
     "output_type": "stream",
     "text": [
      "INFO:tensorflow:Calling model_fn.\n",
      "INFO:tensorflow:Done calling model_fn.\n",
      "INFO:tensorflow:Starting evaluation at 2019-06-02T22:40:18Z\n",
      "INFO:tensorflow:Graph was finalized.\n",
      "WARNING:tensorflow:From /anaconda3/lib/python3.7/site-packages/tensorflow/python/training/saver.py:1266: checkpoint_exists (from tensorflow.python.training.checkpoint_management) is deprecated and will be removed in a future version.\n",
      "Instructions for updating:\n",
      "Use standard file APIs to check for files with this prefix.\n",
      "INFO:tensorflow:Restoring parameters from /var/folders/yh/7gktt0ls0fj77fnrs694ht6m0000gn/T/tmp6s3putae/model.ckpt-1000\n",
      "INFO:tensorflow:Running local_init_op.\n",
      "INFO:tensorflow:Done running local_init_op.\n",
      "INFO:tensorflow:Finished evaluation at 2019-06-02-22:40:18\n",
      "INFO:tensorflow:Saving dict for global step 1000: accuracy = 0.95555556, average_loss = 0.27173388, global_step = 1000, loss = 6.1140122\n",
      "INFO:tensorflow:Saving 'checkpoint_path' summary for global step 1000: /var/folders/yh/7gktt0ls0fj77fnrs694ht6m0000gn/T/tmp6s3putae/model.ckpt-1000\n"
     ]
    }
   ],
   "source": [
    "results = model.evaluate(eval_input_func)"
   ]
  },
  {
   "cell_type": "code",
   "execution_count": 40,
   "metadata": {},
   "outputs": [
    {
     "data": {
      "text/plain": [
       "0.95555556"
      ]
     },
     "execution_count": 40,
     "metadata": {},
     "output_type": "execute_result"
    }
   ],
   "source": [
    "results[\"accuracy\"]"
   ]
  },
  {
   "cell_type": "code",
   "execution_count": 41,
   "metadata": {},
   "outputs": [
    {
     "name": "stdout",
     "output_type": "stream",
     "text": [
      "INFO:tensorflow:Calling model_fn.\n",
      "INFO:tensorflow:Done calling model_fn.\n",
      "INFO:tensorflow:Graph was finalized.\n",
      "INFO:tensorflow:Restoring parameters from /var/folders/yh/7gktt0ls0fj77fnrs694ht6m0000gn/T/tmp6s3putae/model.ckpt-1000\n",
      "INFO:tensorflow:Running local_init_op.\n",
      "INFO:tensorflow:Done running local_init_op.\n"
     ]
    }
   ],
   "source": [
    "predictions = list(model.predict(input_fn=predict_input_fn))\n",
    "prediction = [p[\"class_ids\"][0] for p in predictions]\n",
    "data = classification_report(Y_Test,prediction)\n",
    "conmat = confusion_matrix(Y_Test,prediction)"
   ]
  },
  {
   "cell_type": "code",
   "execution_count": 43,
   "metadata": {},
   "outputs": [
    {
     "data": {
      "text/plain": [
       "<matplotlib.axes._subplots.AxesSubplot at 0x1a2fb5f4e0>"
      ]
     },
     "execution_count": 43,
     "metadata": {},
     "output_type": "execute_result"
    },
    {
     "data": {
      "image/png": "[encoded data removed]",
      "text/plain": [
       "<Figure size 432x432 with 2 Axes>"
      ]
     },
     "metadata": {
      "needs_background": "light"
     },
     "output_type": "display_data"
    }
   ],
   "source": [
    "import scikitplot as skplt\n",
    "skplt.metrics.plot_confusion_matrix(Y_Test, \n",
    "                                    prediction,\n",
    "                                   figsize=(6,6),\n",
    "                                   title=\"Confusion Matrix\")"
   ]
  },
  {
   "cell_type": "code",
   "execution_count": null,
   "metadata": {},
   "outputs": [],
   "source": []
  }
 ],
 "metadata": {
  "kernelspec": {
   "display_name": "Python 3",
   "language": "python",
   "name": "python3"
  },
  "language_info": {
   "codemirror_mode": {
    "name": "ipython",
    "version": 3
   },
   "file_extension": ".py",
   "mimetype": "text/x-python",
   "name": "python",
   "nbconvert_exporter": "python",
   "pygments_lexer": "ipython3",
   "version": "3.7.3"
  }
 },
 "nbformat": 4,
 "nbformat_minor": 2
}
